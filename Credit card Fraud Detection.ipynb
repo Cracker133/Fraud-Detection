{
 "cells": [
  {
   "cell_type": "markdown",
   "metadata": {},
   "source": [
    "**Problem Definition:**\n",
    "    \n",
    "**We are given data of the transactions occured using credit card and we are aimed to detect fradulant transaction by using this data so that in future this does not take place.\n",
    "Our dataset**\n",
    "\n",
    "**Have feature columns V1,V2...v28 some attribute .**\n",
    "\n",
    "**Time-Time of transaction**\n",
    "\n",
    "**Amount-Transited amount per transaction**\n",
    "\n",
    "**Class is the Target Variable and it takes value 1 in case of fraud and 0 otherwise.**"
   ]
  },
  {
   "cell_type": "code",
   "execution_count": 74,
   "metadata": {},
   "outputs": [],
   "source": [
    "import pandas as pd\n",
    "import warnings\n",
    "import matplotlib.pyplot as plt\n",
    "import numpy as np\n",
    "import seaborn as sns\n",
    "import autoplotter\n",
    "from autoplotter import run_app\n",
    "from PIL import Image\n",
    "#!pip install imblearn\n",
    "from imblearn.over_sampling import SMOTE\n",
    "from sklearn.model_selection import train_test_split,GridSearchCV,cross_val_score\n",
    "from sklearn.ensemble import AdaBoostClassifier,BaggingClassifier\n",
    "from sklearn.tree import DecisionTreeClassifier\n",
    "from sklearn.metrics import recall_score,precision_score\n",
    "from sklearn.linear_model import LogisticRegression\n",
    "from sklearn.neighbors import KNeighborsClassifier\n",
    "from sklearn.metrics import accuracy_score,confusion_matrix,classification_report\n",
    "warnings.filterwarnings(\"ignore\")"
   ]
  },
  {
   "cell_type": "code",
   "execution_count": 75,
   "metadata": {},
   "outputs": [
    {
     "data": {
      "text/html": [
       "<div>\n",
       "<style scoped>\n",
       "    .dataframe tbody tr th:only-of-type {\n",
       "        vertical-align: middle;\n",
       "    }\n",
       "\n",
       "    .dataframe tbody tr th {\n",
       "        vertical-align: top;\n",
       "    }\n",
       "\n",
       "    .dataframe thead th {\n",
       "        text-align: right;\n",
       "    }\n",
       "</style>\n",
       "<table border=\"1\" class=\"dataframe\">\n",
       "  <thead>\n",
       "    <tr style=\"text-align: right;\">\n",
       "      <th></th>\n",
       "      <th>Time</th>\n",
       "      <th>V1</th>\n",
       "      <th>V2</th>\n",
       "      <th>V3</th>\n",
       "      <th>V4</th>\n",
       "      <th>V5</th>\n",
       "      <th>V6</th>\n",
       "      <th>V7</th>\n",
       "      <th>V8</th>\n",
       "      <th>V9</th>\n",
       "      <th>...</th>\n",
       "      <th>V21</th>\n",
       "      <th>V22</th>\n",
       "      <th>V23</th>\n",
       "      <th>V24</th>\n",
       "      <th>V25</th>\n",
       "      <th>V26</th>\n",
       "      <th>V27</th>\n",
       "      <th>V28</th>\n",
       "      <th>Amount</th>\n",
       "      <th>Class</th>\n",
       "    </tr>\n",
       "  </thead>\n",
       "  <tbody>\n",
       "    <tr>\n",
       "      <th>0</th>\n",
       "      <td>0.00000</td>\n",
       "      <td>-1.35981</td>\n",
       "      <td>-0.07278</td>\n",
       "      <td>2.53635</td>\n",
       "      <td>1.37816</td>\n",
       "      <td>-0.33832</td>\n",
       "      <td>0.46239</td>\n",
       "      <td>0.23960</td>\n",
       "      <td>0.09870</td>\n",
       "      <td>0.36379</td>\n",
       "      <td>...</td>\n",
       "      <td>-0.01831</td>\n",
       "      <td>0.27784</td>\n",
       "      <td>-0.11047</td>\n",
       "      <td>0.06693</td>\n",
       "      <td>0.12854</td>\n",
       "      <td>-0.18911</td>\n",
       "      <td>0.13356</td>\n",
       "      <td>-0.02105</td>\n",
       "      <td>149.62000</td>\n",
       "      <td>0</td>\n",
       "    </tr>\n",
       "    <tr>\n",
       "      <th>1</th>\n",
       "      <td>0.00000</td>\n",
       "      <td>1.19186</td>\n",
       "      <td>0.26615</td>\n",
       "      <td>0.16648</td>\n",
       "      <td>0.44815</td>\n",
       "      <td>0.06002</td>\n",
       "      <td>-0.08236</td>\n",
       "      <td>-0.07880</td>\n",
       "      <td>0.08510</td>\n",
       "      <td>-0.25543</td>\n",
       "      <td>...</td>\n",
       "      <td>-0.22578</td>\n",
       "      <td>-0.63867</td>\n",
       "      <td>0.10129</td>\n",
       "      <td>-0.33985</td>\n",
       "      <td>0.16717</td>\n",
       "      <td>0.12589</td>\n",
       "      <td>-0.00898</td>\n",
       "      <td>0.01472</td>\n",
       "      <td>2.69000</td>\n",
       "      <td>0</td>\n",
       "    </tr>\n",
       "    <tr>\n",
       "      <th>2</th>\n",
       "      <td>1.00000</td>\n",
       "      <td>-1.35835</td>\n",
       "      <td>-1.34016</td>\n",
       "      <td>1.77321</td>\n",
       "      <td>0.37978</td>\n",
       "      <td>-0.50320</td>\n",
       "      <td>1.80050</td>\n",
       "      <td>0.79146</td>\n",
       "      <td>0.24768</td>\n",
       "      <td>-1.51465</td>\n",
       "      <td>...</td>\n",
       "      <td>0.24800</td>\n",
       "      <td>0.77168</td>\n",
       "      <td>0.90941</td>\n",
       "      <td>-0.68928</td>\n",
       "      <td>-0.32764</td>\n",
       "      <td>-0.13910</td>\n",
       "      <td>-0.05535</td>\n",
       "      <td>-0.05975</td>\n",
       "      <td>378.66000</td>\n",
       "      <td>0</td>\n",
       "    </tr>\n",
       "    <tr>\n",
       "      <th>3</th>\n",
       "      <td>1.00000</td>\n",
       "      <td>-0.96627</td>\n",
       "      <td>-0.18523</td>\n",
       "      <td>1.79299</td>\n",
       "      <td>-0.86329</td>\n",
       "      <td>-0.01031</td>\n",
       "      <td>1.24720</td>\n",
       "      <td>0.23761</td>\n",
       "      <td>0.37744</td>\n",
       "      <td>-1.38702</td>\n",
       "      <td>...</td>\n",
       "      <td>-0.10830</td>\n",
       "      <td>0.00527</td>\n",
       "      <td>-0.19032</td>\n",
       "      <td>-1.17558</td>\n",
       "      <td>0.64738</td>\n",
       "      <td>-0.22193</td>\n",
       "      <td>0.06272</td>\n",
       "      <td>0.06146</td>\n",
       "      <td>123.50000</td>\n",
       "      <td>0</td>\n",
       "    </tr>\n",
       "    <tr>\n",
       "      <th>4</th>\n",
       "      <td>2.00000</td>\n",
       "      <td>-1.15823</td>\n",
       "      <td>0.87774</td>\n",
       "      <td>1.54872</td>\n",
       "      <td>0.40303</td>\n",
       "      <td>-0.40719</td>\n",
       "      <td>0.09592</td>\n",
       "      <td>0.59294</td>\n",
       "      <td>-0.27053</td>\n",
       "      <td>0.81774</td>\n",
       "      <td>...</td>\n",
       "      <td>-0.00943</td>\n",
       "      <td>0.79828</td>\n",
       "      <td>-0.13746</td>\n",
       "      <td>0.14127</td>\n",
       "      <td>-0.20601</td>\n",
       "      <td>0.50229</td>\n",
       "      <td>0.21942</td>\n",
       "      <td>0.21515</td>\n",
       "      <td>69.99000</td>\n",
       "      <td>0</td>\n",
       "    </tr>\n",
       "  </tbody>\n",
       "</table>\n",
       "<p>5 rows × 31 columns</p>\n",
       "</div>"
      ],
      "text/plain": [
       "     Time       V1       V2      V3       V4       V5       V6       V7  \\\n",
       "0 0.00000 -1.35981 -0.07278 2.53635  1.37816 -0.33832  0.46239  0.23960   \n",
       "1 0.00000  1.19186  0.26615 0.16648  0.44815  0.06002 -0.08236 -0.07880   \n",
       "2 1.00000 -1.35835 -1.34016 1.77321  0.37978 -0.50320  1.80050  0.79146   \n",
       "3 1.00000 -0.96627 -0.18523 1.79299 -0.86329 -0.01031  1.24720  0.23761   \n",
       "4 2.00000 -1.15823  0.87774 1.54872  0.40303 -0.40719  0.09592  0.59294   \n",
       "\n",
       "        V8       V9  ...      V21      V22      V23      V24      V25  \\\n",
       "0  0.09870  0.36379  ... -0.01831  0.27784 -0.11047  0.06693  0.12854   \n",
       "1  0.08510 -0.25543  ... -0.22578 -0.63867  0.10129 -0.33985  0.16717   \n",
       "2  0.24768 -1.51465  ...  0.24800  0.77168  0.90941 -0.68928 -0.32764   \n",
       "3  0.37744 -1.38702  ... -0.10830  0.00527 -0.19032 -1.17558  0.64738   \n",
       "4 -0.27053  0.81774  ... -0.00943  0.79828 -0.13746  0.14127 -0.20601   \n",
       "\n",
       "       V26      V27      V28    Amount  Class  \n",
       "0 -0.18911  0.13356 -0.02105 149.62000      0  \n",
       "1  0.12589 -0.00898  0.01472   2.69000      0  \n",
       "2 -0.13910 -0.05535 -0.05975 378.66000      0  \n",
       "3 -0.22193  0.06272  0.06146 123.50000      0  \n",
       "4  0.50229  0.21942  0.21515  69.99000      0  \n",
       "\n",
       "[5 rows x 31 columns]"
      ]
     },
     "execution_count": 75,
     "metadata": {},
     "output_type": "execute_result"
    }
   ],
   "source": [
    "Fraud=pd.read_csv(\"creditcard.csv\")\n",
    "Fraud.head(5)"
   ]
  },
  {
   "cell_type": "code",
   "execution_count": 76,
   "metadata": {},
   "outputs": [],
   "source": [
    "Fraud=Fraud.sample(n=100000,replace=False)"
   ]
  },
  {
   "cell_type": "code",
   "execution_count": 77,
   "metadata": {},
   "outputs": [
    {
     "data": {
      "text/plain": [
       "Time      False\n",
       "V1        False\n",
       "V2        False\n",
       "V3        False\n",
       "V4        False\n",
       "V5        False\n",
       "V6        False\n",
       "V7        False\n",
       "V8        False\n",
       "V9        False\n",
       "V10       False\n",
       "V11       False\n",
       "V12       False\n",
       "V13       False\n",
       "V14       False\n",
       "V15       False\n",
       "V16       False\n",
       "V17       False\n",
       "V18       False\n",
       "V19       False\n",
       "V20       False\n",
       "V21       False\n",
       "V22       False\n",
       "V23       False\n",
       "V24       False\n",
       "V25       False\n",
       "V26       False\n",
       "V27       False\n",
       "V28       False\n",
       "Amount    False\n",
       "Class     False\n",
       "dtype: bool"
      ]
     },
     "execution_count": 77,
     "metadata": {},
     "output_type": "execute_result"
    }
   ],
   "source": [
    "Fraud.isnull().any()"
   ]
  },
  {
   "cell_type": "code",
   "execution_count": 78,
   "metadata": {},
   "outputs": [
    {
     "name": "stdout",
     "output_type": "stream",
     "text": [
      "<class 'pandas.core.frame.DataFrame'>\n",
      "Int64Index: 100000 entries, 65459 to 148046\n",
      "Data columns (total 31 columns):\n",
      " #   Column  Non-Null Count   Dtype  \n",
      "---  ------  --------------   -----  \n",
      " 0   Time    100000 non-null  float64\n",
      " 1   V1      100000 non-null  float64\n",
      " 2   V2      100000 non-null  float64\n",
      " 3   V3      100000 non-null  float64\n",
      " 4   V4      100000 non-null  float64\n",
      " 5   V5      100000 non-null  float64\n",
      " 6   V6      100000 non-null  float64\n",
      " 7   V7      100000 non-null  float64\n",
      " 8   V8      100000 non-null  float64\n",
      " 9   V9      100000 non-null  float64\n",
      " 10  V10     100000 non-null  float64\n",
      " 11  V11     100000 non-null  float64\n",
      " 12  V12     100000 non-null  float64\n",
      " 13  V13     100000 non-null  float64\n",
      " 14  V14     100000 non-null  float64\n",
      " 15  V15     100000 non-null  float64\n",
      " 16  V16     100000 non-null  float64\n",
      " 17  V17     100000 non-null  float64\n",
      " 18  V18     100000 non-null  float64\n",
      " 19  V19     100000 non-null  float64\n",
      " 20  V20     100000 non-null  float64\n",
      " 21  V21     100000 non-null  float64\n",
      " 22  V22     100000 non-null  float64\n",
      " 23  V23     100000 non-null  float64\n",
      " 24  V24     100000 non-null  float64\n",
      " 25  V25     100000 non-null  float64\n",
      " 26  V26     100000 non-null  float64\n",
      " 27  V27     100000 non-null  float64\n",
      " 28  V28     100000 non-null  float64\n",
      " 29  Amount  100000 non-null  float64\n",
      " 30  Class   100000 non-null  int64  \n",
      "dtypes: float64(30), int64(1)\n",
      "memory usage: 24.4 MB\n"
     ]
    }
   ],
   "source": [
    "Fraud.info()"
   ]
  },
  {
   "cell_type": "code",
   "execution_count": 79,
   "metadata": {},
   "outputs": [
    {
     "data": {
      "text/html": [
       "<div>\n",
       "<style scoped>\n",
       "    .dataframe tbody tr th:only-of-type {\n",
       "        vertical-align: middle;\n",
       "    }\n",
       "\n",
       "    .dataframe tbody tr th {\n",
       "        vertical-align: top;\n",
       "    }\n",
       "\n",
       "    .dataframe thead th {\n",
       "        text-align: right;\n",
       "    }\n",
       "</style>\n",
       "<table border=\"1\" class=\"dataframe\">\n",
       "  <thead>\n",
       "    <tr style=\"text-align: right;\">\n",
       "      <th></th>\n",
       "      <th>Time</th>\n",
       "      <th>V1</th>\n",
       "      <th>V2</th>\n",
       "      <th>V3</th>\n",
       "      <th>V4</th>\n",
       "      <th>V5</th>\n",
       "      <th>V6</th>\n",
       "      <th>V7</th>\n",
       "      <th>V8</th>\n",
       "      <th>V9</th>\n",
       "      <th>...</th>\n",
       "      <th>V21</th>\n",
       "      <th>V22</th>\n",
       "      <th>V23</th>\n",
       "      <th>V24</th>\n",
       "      <th>V25</th>\n",
       "      <th>V26</th>\n",
       "      <th>V27</th>\n",
       "      <th>V28</th>\n",
       "      <th>Amount</th>\n",
       "      <th>Class</th>\n",
       "    </tr>\n",
       "  </thead>\n",
       "  <tbody>\n",
       "    <tr>\n",
       "      <th>count</th>\n",
       "      <td>100000.00000</td>\n",
       "      <td>100000.00000</td>\n",
       "      <td>100000.00000</td>\n",
       "      <td>100000.00000</td>\n",
       "      <td>100000.00000</td>\n",
       "      <td>100000.00000</td>\n",
       "      <td>100000.00000</td>\n",
       "      <td>100000.00000</td>\n",
       "      <td>100000.00000</td>\n",
       "      <td>100000.00000</td>\n",
       "      <td>...</td>\n",
       "      <td>100000.00000</td>\n",
       "      <td>100000.00000</td>\n",
       "      <td>100000.00000</td>\n",
       "      <td>100000.00000</td>\n",
       "      <td>100000.00000</td>\n",
       "      <td>100000.00000</td>\n",
       "      <td>100000.00000</td>\n",
       "      <td>100000.00000</td>\n",
       "      <td>100000.00000</td>\n",
       "      <td>100000.00000</td>\n",
       "    </tr>\n",
       "    <tr>\n",
       "      <th>mean</th>\n",
       "      <td>94715.26597</td>\n",
       "      <td>0.00661</td>\n",
       "      <td>0.00761</td>\n",
       "      <td>-0.00933</td>\n",
       "      <td>-0.00134</td>\n",
       "      <td>-0.00086</td>\n",
       "      <td>-0.00130</td>\n",
       "      <td>0.00144</td>\n",
       "      <td>-0.00037</td>\n",
       "      <td>0.00211</td>\n",
       "      <td>...</td>\n",
       "      <td>0.00148</td>\n",
       "      <td>-0.00055</td>\n",
       "      <td>-0.00152</td>\n",
       "      <td>-0.00078</td>\n",
       "      <td>-0.00029</td>\n",
       "      <td>0.00285</td>\n",
       "      <td>0.00029</td>\n",
       "      <td>0.00006</td>\n",
       "      <td>87.85038</td>\n",
       "      <td>0.00177</td>\n",
       "    </tr>\n",
       "    <tr>\n",
       "      <th>std</th>\n",
       "      <td>47468.41031</td>\n",
       "      <td>1.94810</td>\n",
       "      <td>1.60774</td>\n",
       "      <td>1.51570</td>\n",
       "      <td>1.40132</td>\n",
       "      <td>1.35544</td>\n",
       "      <td>1.32129</td>\n",
       "      <td>1.22808</td>\n",
       "      <td>1.21506</td>\n",
       "      <td>1.09746</td>\n",
       "      <td>...</td>\n",
       "      <td>0.74504</td>\n",
       "      <td>0.72441</td>\n",
       "      <td>0.61282</td>\n",
       "      <td>0.60495</td>\n",
       "      <td>0.51849</td>\n",
       "      <td>0.48438</td>\n",
       "      <td>0.39424</td>\n",
       "      <td>0.30584</td>\n",
       "      <td>237.17549</td>\n",
       "      <td>0.04203</td>\n",
       "    </tr>\n",
       "    <tr>\n",
       "      <th>min</th>\n",
       "      <td>0.00000</td>\n",
       "      <td>-46.85505</td>\n",
       "      <td>-45.60797</td>\n",
       "      <td>-33.68098</td>\n",
       "      <td>-5.68317</td>\n",
       "      <td>-42.14790</td>\n",
       "      <td>-19.99635</td>\n",
       "      <td>-43.55724</td>\n",
       "      <td>-50.68842</td>\n",
       "      <td>-13.43407</td>\n",
       "      <td>...</td>\n",
       "      <td>-22.79760</td>\n",
       "      <td>-8.88702</td>\n",
       "      <td>-44.80774</td>\n",
       "      <td>-2.78961</td>\n",
       "      <td>-10.29540</td>\n",
       "      <td>-1.65816</td>\n",
       "      <td>-8.87867</td>\n",
       "      <td>-9.61792</td>\n",
       "      <td>0.00000</td>\n",
       "      <td>0.00000</td>\n",
       "    </tr>\n",
       "    <tr>\n",
       "      <th>25%</th>\n",
       "      <td>54085.00000</td>\n",
       "      <td>-0.91868</td>\n",
       "      <td>-0.59471</td>\n",
       "      <td>-0.90133</td>\n",
       "      <td>-0.84225</td>\n",
       "      <td>-0.68399</td>\n",
       "      <td>-0.77262</td>\n",
       "      <td>-0.55124</td>\n",
       "      <td>-0.21009</td>\n",
       "      <td>-0.63774</td>\n",
       "      <td>...</td>\n",
       "      <td>-0.22728</td>\n",
       "      <td>-0.54340</td>\n",
       "      <td>-0.16167</td>\n",
       "      <td>-0.35525</td>\n",
       "      <td>-0.31631</td>\n",
       "      <td>-0.32593</td>\n",
       "      <td>-0.07110</td>\n",
       "      <td>-0.05311</td>\n",
       "      <td>5.55000</td>\n",
       "      <td>0.00000</td>\n",
       "    </tr>\n",
       "    <tr>\n",
       "      <th>50%</th>\n",
       "      <td>84618.00000</td>\n",
       "      <td>0.02712</td>\n",
       "      <td>0.06747</td>\n",
       "      <td>0.17183</td>\n",
       "      <td>-0.01549</td>\n",
       "      <td>-0.04961</td>\n",
       "      <td>-0.27594</td>\n",
       "      <td>0.04116</td>\n",
       "      <td>0.02159</td>\n",
       "      <td>-0.04948</td>\n",
       "      <td>...</td>\n",
       "      <td>-0.02911</td>\n",
       "      <td>0.00396</td>\n",
       "      <td>-0.01151</td>\n",
       "      <td>0.04050</td>\n",
       "      <td>0.01589</td>\n",
       "      <td>-0.04904</td>\n",
       "      <td>0.00107</td>\n",
       "      <td>0.01120</td>\n",
       "      <td>21.98000</td>\n",
       "      <td>0.00000</td>\n",
       "    </tr>\n",
       "    <tr>\n",
       "      <th>75%</th>\n",
       "      <td>139177.25000</td>\n",
       "      <td>1.31752</td>\n",
       "      <td>0.80888</td>\n",
       "      <td>1.01325</td>\n",
       "      <td>0.73466</td>\n",
       "      <td>0.61145</td>\n",
       "      <td>0.39579</td>\n",
       "      <td>0.57383</td>\n",
       "      <td>0.32656</td>\n",
       "      <td>0.60082</td>\n",
       "      <td>...</td>\n",
       "      <td>0.18696</td>\n",
       "      <td>0.52784</td>\n",
       "      <td>0.14670</td>\n",
       "      <td>0.43940</td>\n",
       "      <td>0.34948</td>\n",
       "      <td>0.24278</td>\n",
       "      <td>0.09063</td>\n",
       "      <td>0.07795</td>\n",
       "      <td>77.00000</td>\n",
       "      <td>0.00000</td>\n",
       "    </tr>\n",
       "    <tr>\n",
       "      <th>max</th>\n",
       "      <td>172792.00000</td>\n",
       "      <td>2.45493</td>\n",
       "      <td>22.05773</td>\n",
       "      <td>4.04047</td>\n",
       "      <td>13.12914</td>\n",
       "      <td>28.76267</td>\n",
       "      <td>23.91784</td>\n",
       "      <td>44.05446</td>\n",
       "      <td>19.16833</td>\n",
       "      <td>10.34841</td>\n",
       "      <td>...</td>\n",
       "      <td>27.20284</td>\n",
       "      <td>8.36199</td>\n",
       "      <td>19.00294</td>\n",
       "      <td>4.01444</td>\n",
       "      <td>5.85248</td>\n",
       "      <td>3.12275</td>\n",
       "      <td>12.15240</td>\n",
       "      <td>15.27065</td>\n",
       "      <td>10199.44000</td>\n",
       "      <td>1.00000</td>\n",
       "    </tr>\n",
       "  </tbody>\n",
       "</table>\n",
       "<p>8 rows × 31 columns</p>\n",
       "</div>"
      ],
      "text/plain": [
       "              Time           V1           V2           V3           V4  \\\n",
       "count 100000.00000 100000.00000 100000.00000 100000.00000 100000.00000   \n",
       "mean   94715.26597      0.00661      0.00761     -0.00933     -0.00134   \n",
       "std    47468.41031      1.94810      1.60774      1.51570      1.40132   \n",
       "min        0.00000    -46.85505    -45.60797    -33.68098     -5.68317   \n",
       "25%    54085.00000     -0.91868     -0.59471     -0.90133     -0.84225   \n",
       "50%    84618.00000      0.02712      0.06747      0.17183     -0.01549   \n",
       "75%   139177.25000      1.31752      0.80888      1.01325      0.73466   \n",
       "max   172792.00000      2.45493     22.05773      4.04047     13.12914   \n",
       "\n",
       "                V5           V6           V7           V8           V9  ...  \\\n",
       "count 100000.00000 100000.00000 100000.00000 100000.00000 100000.00000  ...   \n",
       "mean      -0.00086     -0.00130      0.00144     -0.00037      0.00211  ...   \n",
       "std        1.35544      1.32129      1.22808      1.21506      1.09746  ...   \n",
       "min      -42.14790    -19.99635    -43.55724    -50.68842    -13.43407  ...   \n",
       "25%       -0.68399     -0.77262     -0.55124     -0.21009     -0.63774  ...   \n",
       "50%       -0.04961     -0.27594      0.04116      0.02159     -0.04948  ...   \n",
       "75%        0.61145      0.39579      0.57383      0.32656      0.60082  ...   \n",
       "max       28.76267     23.91784     44.05446     19.16833     10.34841  ...   \n",
       "\n",
       "               V21          V22          V23          V24          V25  \\\n",
       "count 100000.00000 100000.00000 100000.00000 100000.00000 100000.00000   \n",
       "mean       0.00148     -0.00055     -0.00152     -0.00078     -0.00029   \n",
       "std        0.74504      0.72441      0.61282      0.60495      0.51849   \n",
       "min      -22.79760     -8.88702    -44.80774     -2.78961    -10.29540   \n",
       "25%       -0.22728     -0.54340     -0.16167     -0.35525     -0.31631   \n",
       "50%       -0.02911      0.00396     -0.01151      0.04050      0.01589   \n",
       "75%        0.18696      0.52784      0.14670      0.43940      0.34948   \n",
       "max       27.20284      8.36199     19.00294      4.01444      5.85248   \n",
       "\n",
       "               V26          V27          V28       Amount        Class  \n",
       "count 100000.00000 100000.00000 100000.00000 100000.00000 100000.00000  \n",
       "mean       0.00285      0.00029      0.00006     87.85038      0.00177  \n",
       "std        0.48438      0.39424      0.30584    237.17549      0.04203  \n",
       "min       -1.65816     -8.87867     -9.61792      0.00000      0.00000  \n",
       "25%       -0.32593     -0.07110     -0.05311      5.55000      0.00000  \n",
       "50%       -0.04904      0.00107      0.01120     21.98000      0.00000  \n",
       "75%        0.24278      0.09063      0.07795     77.00000      0.00000  \n",
       "max        3.12275     12.15240     15.27065  10199.44000      1.00000  \n",
       "\n",
       "[8 rows x 31 columns]"
      ]
     },
     "execution_count": 79,
     "metadata": {},
     "output_type": "execute_result"
    }
   ],
   "source": [
    "pd.set_option('display.float_format',lambda x: '%.5f' % x)\n",
    "Fraud.describe()"
   ]
  },
  {
   "cell_type": "markdown",
   "metadata": {},
   "source": [
    "**Exploratory Data Analysis**"
   ]
  },
  {
   "cell_type": "code",
   "execution_count": 80,
   "metadata": {},
   "outputs": [],
   "source": [
    "#run_app(Fraud,mode=\"inline\")"
   ]
  },
  {
   "cell_type": "code",
   "execution_count": 81,
   "metadata": {},
   "outputs": [],
   "source": [
    "#Fraud.groupby('Class').plot(kind=\"bar\",color=\"orange\")\n",
    "#plt.show()"
   ]
  },
  {
   "cell_type": "code",
   "execution_count": 82,
   "metadata": {},
   "outputs": [
    {
     "name": "stdout",
     "output_type": "stream",
     "text": [
      "0    99823\n",
      "1      177\n",
      "Name: Class, dtype: int64\n"
     ]
    },
    {
     "data": {
      "image/png": "[encoded data removed]",
      "text/plain": [
       "<Figure size 576x396 with 1 Axes>"
      ]
     },
     "metadata": {},
     "output_type": "display_data"
    }
   ],
   "source": [
    "print(Fraud.Class.value_counts())\n",
    "sns.countplot(Fraud.Class,palette='Set2')\n",
    "plt.show()"
   ]
  },
  {
   "cell_type": "code",
   "execution_count": 83,
   "metadata": {},
   "outputs": [
    {
     "data": {
      "text/plain": [
       "1.00000      4800\n",
       "1.98000      2155\n",
       "0.89000      1708\n",
       "9.99000      1700\n",
       "15.00000     1121\n",
       "             ... \n",
       "159.29000       1\n",
       "988.47000       1\n",
       "159.71000       1\n",
       "341.36000       1\n",
       "254.55000       1\n",
       "Name: Amount, Length: 18972, dtype: int64"
      ]
     },
     "execution_count": 83,
     "metadata": {},
     "output_type": "execute_result"
    }
   ],
   "source": [
    "Fraud.Amount.value_counts()"
   ]
  },
  {
   "cell_type": "markdown",
   "metadata": {},
   "source": [
    "**We see that the no of fraudulant transactions are very less (71) as compared to no of non-fraud transactions.**\n",
    "\n",
    "**Actually this seems to be an imbalanced dataset.**"
   ]
  },
  {
   "cell_type": "code",
   "execution_count": 84,
   "metadata": {},
   "outputs": [
    {
     "data": {
      "image/png": "[encoded data removed]",
      "text/plain": [
       "<PIL.JpegImagePlugin.JpegImageFile image mode=RGB size=500x300 at 0x1CC80BFD8E0>"
      ]
     },
     "execution_count": 84,
     "metadata": {},
     "output_type": "execute_result"
    }
   ],
   "source": [
    "Image.open(\"imbalanced-data.jpg\")"
   ]
  },
  {
   "cell_type": "markdown",
   "metadata": {},
   "source": [
    "**Handilng Imbalanced Dataset with SMOTE in python**"
   ]
  },
  {
   "cell_type": "markdown",
   "metadata": {},
   "source": [
    "**SMOTE (Synthetic Minority Oversampling Technique) – Oversampling**\n",
    "\n",
    "SMOTE (synthetic minority oversampling technique) is one of the most commonly used oversampling methods to solve the imbalance problem.\n",
    "\n",
    "It aims to balance class distribution by randomly increasing minority class examples by replicating them.\n",
    "\n",
    "SMOTE synthesises new minority instances between existing minority instances. It generates the virtual training records by linear interpolation for the minority class. \n",
    "\n",
    "These synthetic training records are generated by randomly selecting one or more of the k-nearest neighbors for each example in the minority class. \n",
    "\n",
    "After the oversampling process, the data is reconstructed and several classification models can be applied for the processed data."
   ]
  },
  {
   "cell_type": "markdown",
   "metadata": {},
   "source": [
    "**Firstly splitting the data to train and test**"
   ]
  },
  {
   "cell_type": "code",
   "execution_count": 85,
   "metadata": {},
   "outputs": [],
   "source": [
    "X=Fraud.drop(\"Class\",axis=\"columns\")\n",
    "y=Fraud[\"Class\"]"
   ]
  },
  {
   "cell_type": "code",
   "execution_count": 115,
   "metadata": {},
   "outputs": [],
   "source": [
    "X_train,X_test,y_train,y_test=train_test_split(X,y,test_size=0.20,random_state=10)"
   ]
  },
  {
   "cell_type": "code",
   "execution_count": 87,
   "metadata": {},
   "outputs": [
    {
     "name": "stdout",
     "output_type": "stream",
     "text": [
      "Before SMOTE\n",
      "0    79861\n",
      "1      139\n",
      "Name: Class, dtype: int64\n"
     ]
    },
    {
     "data": {
      "text/plain": [
       "<AxesSubplot:>"
      ]
     },
     "execution_count": 87,
     "metadata": {},
     "output_type": "execute_result"
    },
    {
     "data": {
      "image/png": "[encoded data removed]",
      "text/plain": [
       "<Figure size 576x396 with 1 Axes>"
      ]
     },
     "metadata": {},
     "output_type": "display_data"
    }
   ],
   "source": [
    "print(\"Before SMOTE\")\n",
    "print(y_train.value_counts())\n",
    "y_train.value_counts().plot(kind=\"bar\",color=\"Green\")"
   ]
  },
  {
   "cell_type": "code",
   "execution_count": 88,
   "metadata": {},
   "outputs": [],
   "source": [
    "smote=SMOTE(random_state=10,k_neighbors=5)\n",
    "X_train_SMOTE,y_train_SMOTE=smote.fit_resample(X_train,y_train)"
   ]
  },
  {
   "cell_type": "code",
   "execution_count": 89,
   "metadata": {},
   "outputs": [
    {
     "name": "stdout",
     "output_type": "stream",
     "text": [
      "After SMOTE\n",
      "1    79861\n",
      "0    79861\n",
      "Name: Class, dtype: int64\n"
     ]
    },
    {
     "data": {
      "image/png": "[encoded data removed]",
      "text/plain": [
       "<Figure size 576x396 with 1 Axes>"
      ]
     },
     "metadata": {},
     "output_type": "display_data"
    }
   ],
   "source": [
    "y_train_SMOTE.value_counts().plot(kind=\"bar\",color=\"Green\")\n",
    "print(\"After SMOTE\")\n",
    "print(y_train_SMOTE.value_counts())\n"
   ]
  },
  {
   "cell_type": "markdown",
   "metadata": {},
   "source": [
    "**As we can see that our dataset is balanced .** \n",
    "\n",
    "**Now let's proceed further and start building models.**"
   ]
  },
  {
   "cell_type": "markdown",
   "metadata": {},
   "source": [
    "**Cross Validation**"
   ]
  },
  {
   "cell_type": "markdown",
   "metadata": {},
   "source": [
    "**Using Cross validation Technique to see which Algorithm works well on the given Training Data set.From above results we can say Bagging Technique works well on the given training Dataset so we will use Bagging and logistric regression to test the model**"
   ]
  },
  {
   "cell_type": "code",
   "execution_count": 22,
   "metadata": {},
   "outputs": [
    {
     "name": "stdout",
     "output_type": "stream",
     "text": [
      "0.9985063351797209\n"
     ]
    }
   ],
   "source": [
    "cv_Dtree=cross_val_score(DecisionTreeClassifier(),X_train_SMOTE,y_train_SMOTE,cv=5)\n",
    "print(np.mean(cv_Dtree))"
   ]
  },
  {
   "cell_type": "code",
   "execution_count": 18,
   "metadata": {},
   "outputs": [
    {
     "name": "stdout",
     "output_type": "stream",
     "text": [
      "0.9713343065773528\n"
     ]
    }
   ],
   "source": [
    "cv_LogisR=cross_val_score(LogisticRegression(),X_train_SMOTE,y_train_SMOTE,cv=5)\n",
    "print(np.mean(cv_LogisR))"
   ]
  },
  {
   "cell_type": "code",
   "execution_count": 24,
   "metadata": {},
   "outputs": [],
   "source": [
    "cv_KNN=cross_val_score(KNeighborsClassifier(),X_train_SMOTE,y_train_SMOTE,cv=5)\n",
    "print(np.mean(cv_KNN))"
   ]
  },
  {
   "cell_type": "code",
   "execution_count": 26,
   "metadata": {},
   "outputs": [],
   "source": [
    "#cv_Bagging=cross_val_score(BaggingClassifier(),X_train_SMOTE,y_train_SMOTE,cv=5)\n",
    "#print(np.mean(cv_Bagging))"
   ]
  },
  {
   "cell_type": "markdown",
   "metadata": {},
   "source": [
    "**Hyper Parameter Tuning**"
   ]
  },
  {
   "cell_type": "code",
   "execution_count": 36,
   "metadata": {},
   "outputs": [
    {
     "data": {
      "text/html": [
       "<div>\n",
       "<style scoped>\n",
       "    .dataframe tbody tr th:only-of-type {\n",
       "        vertical-align: middle;\n",
       "    }\n",
       "\n",
       "    .dataframe tbody tr th {\n",
       "        vertical-align: top;\n",
       "    }\n",
       "\n",
       "    .dataframe thead th {\n",
       "        text-align: right;\n",
       "    }\n",
       "</style>\n",
       "<table border=\"1\" class=\"dataframe\">\n",
       "  <thead>\n",
       "    <tr style=\"text-align: right;\">\n",
       "      <th></th>\n",
       "      <th>param_base_estimator__max_depth</th>\n",
       "      <th>param_max_samples</th>\n",
       "      <th>mean_test_score</th>\n",
       "    </tr>\n",
       "  </thead>\n",
       "  <tbody>\n",
       "    <tr>\n",
       "      <th>0</th>\n",
       "      <td>1</td>\n",
       "      <td>0.05000</td>\n",
       "      <td>0.96047</td>\n",
       "    </tr>\n",
       "    <tr>\n",
       "      <th>1</th>\n",
       "      <td>1</td>\n",
       "      <td>0.10000</td>\n",
       "      <td>0.96006</td>\n",
       "    </tr>\n",
       "    <tr>\n",
       "      <th>2</th>\n",
       "      <td>1</td>\n",
       "      <td>0.20000</td>\n",
       "      <td>0.96027</td>\n",
       "    </tr>\n",
       "    <tr>\n",
       "      <th>3</th>\n",
       "      <td>1</td>\n",
       "      <td>0.50000</td>\n",
       "      <td>0.96010</td>\n",
       "    </tr>\n",
       "    <tr>\n",
       "      <th>4</th>\n",
       "      <td>2</td>\n",
       "      <td>0.05000</td>\n",
       "      <td>0.97291</td>\n",
       "    </tr>\n",
       "    <tr>\n",
       "      <th>5</th>\n",
       "      <td>2</td>\n",
       "      <td>0.10000</td>\n",
       "      <td>0.97354</td>\n",
       "    </tr>\n",
       "    <tr>\n",
       "      <th>6</th>\n",
       "      <td>2</td>\n",
       "      <td>0.20000</td>\n",
       "      <td>0.97224</td>\n",
       "    </tr>\n",
       "    <tr>\n",
       "      <th>7</th>\n",
       "      <td>2</td>\n",
       "      <td>0.50000</td>\n",
       "      <td>0.97135</td>\n",
       "    </tr>\n",
       "    <tr>\n",
       "      <th>8</th>\n",
       "      <td>3</td>\n",
       "      <td>0.05000</td>\n",
       "      <td>0.97963</td>\n",
       "    </tr>\n",
       "    <tr>\n",
       "      <th>9</th>\n",
       "      <td>3</td>\n",
       "      <td>0.10000</td>\n",
       "      <td>0.98098</td>\n",
       "    </tr>\n",
       "    <tr>\n",
       "      <th>10</th>\n",
       "      <td>3</td>\n",
       "      <td>0.20000</td>\n",
       "      <td>0.97764</td>\n",
       "    </tr>\n",
       "    <tr>\n",
       "      <th>11</th>\n",
       "      <td>3</td>\n",
       "      <td>0.50000</td>\n",
       "      <td>0.97721</td>\n",
       "    </tr>\n",
       "    <tr>\n",
       "      <th>12</th>\n",
       "      <td>4</td>\n",
       "      <td>0.05000</td>\n",
       "      <td>0.98509</td>\n",
       "    </tr>\n",
       "    <tr>\n",
       "      <th>13</th>\n",
       "      <td>4</td>\n",
       "      <td>0.10000</td>\n",
       "      <td>0.98438</td>\n",
       "    </tr>\n",
       "    <tr>\n",
       "      <th>14</th>\n",
       "      <td>4</td>\n",
       "      <td>0.20000</td>\n",
       "      <td>0.98467</td>\n",
       "    </tr>\n",
       "    <tr>\n",
       "      <th>15</th>\n",
       "      <td>4</td>\n",
       "      <td>0.50000</td>\n",
       "      <td>0.98410</td>\n",
       "    </tr>\n",
       "    <tr>\n",
       "      <th>16</th>\n",
       "      <td>5</td>\n",
       "      <td>0.05000</td>\n",
       "      <td>0.98846</td>\n",
       "    </tr>\n",
       "    <tr>\n",
       "      <th>17</th>\n",
       "      <td>5</td>\n",
       "      <td>0.10000</td>\n",
       "      <td>0.98903</td>\n",
       "    </tr>\n",
       "    <tr>\n",
       "      <th>18</th>\n",
       "      <td>5</td>\n",
       "      <td>0.20000</td>\n",
       "      <td>0.98842</td>\n",
       "    </tr>\n",
       "    <tr>\n",
       "      <th>19</th>\n",
       "      <td>5</td>\n",
       "      <td>0.50000</td>\n",
       "      <td>0.98877</td>\n",
       "    </tr>\n",
       "  </tbody>\n",
       "</table>\n",
       "</div>"
      ],
      "text/plain": [
       "   param_base_estimator__max_depth param_max_samples  mean_test_score\n",
       "0                                1           0.05000          0.96047\n",
       "1                                1           0.10000          0.96006\n",
       "2                                1           0.20000          0.96027\n",
       "3                                1           0.50000          0.96010\n",
       "4                                2           0.05000          0.97291\n",
       "5                                2           0.10000          0.97354\n",
       "6                                2           0.20000          0.97224\n",
       "7                                2           0.50000          0.97135\n",
       "8                                3           0.05000          0.97963\n",
       "9                                3           0.10000          0.98098\n",
       "10                               3           0.20000          0.97764\n",
       "11                               3           0.50000          0.97721\n",
       "12                               4           0.05000          0.98509\n",
       "13                               4           0.10000          0.98438\n",
       "14                               4           0.20000          0.98467\n",
       "15                               4           0.50000          0.98410\n",
       "16                               5           0.05000          0.98846\n",
       "17                               5           0.10000          0.98903\n",
       "18                               5           0.20000          0.98842\n",
       "19                               5           0.50000          0.98877"
      ]
     },
     "execution_count": 36,
     "metadata": {},
     "output_type": "execute_result"
    }
   ],
   "source": [
    "rs=GridSearchCV(BaggingClassifier(base_estimator=DecisionTreeClassifier(),n_estimators=10),{'base_estimator__max_depth' : [1, 2, 3, 4, 5],\n",
    "    'max_samples' : [0.05, 0.1, 0.2, 0.5]},cv=5)\n",
    "rs.fit(X_train_SMOTE,y_train_SMOTE)\n",
    "pd.DataFrame(rs.cv_results_)[['param_base_estimator__max_depth','param_max_samples','mean_test_score']]"
   ]
  },
  {
   "cell_type": "markdown",
   "metadata": {},
   "source": [
    "**In the above we have used Hyper parameter tuning Technique GridsearchCv to find out the best parameters for the chosen model**"
   ]
  },
  {
   "cell_type": "markdown",
   "metadata": {},
   "source": [
    "**Logistic Regression**"
   ]
  },
  {
   "cell_type": "code",
   "execution_count": 116,
   "metadata": {},
   "outputs": [],
   "source": [
    "Lreg=LogisticRegression()\n",
    "Lreg=Lreg.fit(X_train_SMOTE,y_train_SMOTE)"
   ]
  },
  {
   "cell_type": "code",
   "execution_count": 117,
   "metadata": {},
   "outputs": [
    {
     "data": {
      "text/plain": [
       "array([[-2.95918204e-05, -4.28879915e-01,  3.74878635e-01,\n",
       "        -6.99202474e-01,  4.30156824e-01, -2.90606217e-01,\n",
       "        -1.26491183e-01, -5.65892110e-01,  1.50149349e-03,\n",
       "        -2.47455064e-01, -5.61563133e-01,  3.58830864e-01,\n",
       "        -5.93386567e-01, -1.00230591e-02, -6.61845580e-01,\n",
       "        -1.63743751e-02, -3.86578556e-01, -6.08726046e-01,\n",
       "        -2.03894081e-01,  6.31663417e-02,  4.05039996e-02,\n",
       "         6.37662673e-02,  3.62513381e-03,  2.53225098e-03,\n",
       "        -1.31865927e-02, -4.50425527e-03,  5.02869624e-03,\n",
       "         9.15982003e-03,  8.41429883e-03, -2.52618027e-03]])"
      ]
     },
     "execution_count": 117,
     "metadata": {},
     "output_type": "execute_result"
    }
   ],
   "source": [
    "Lreg.coef_"
   ]
  },
  {
   "cell_type": "code",
   "execution_count": 118,
   "metadata": {},
   "outputs": [
    {
     "data": {
      "text/plain": [
       "array([0.0049525])"
      ]
     },
     "execution_count": 118,
     "metadata": {},
     "output_type": "execute_result"
    }
   ],
   "source": [
    "Lreg.intercept_"
   ]
  },
  {
   "cell_type": "code",
   "execution_count": 119,
   "metadata": {},
   "outputs": [],
   "source": [
    "y_train_predict=Lreg.predict(X_train_SMOTE)\n",
    "y_test_predict=Lreg.predict(X_test)"
   ]
  },
  {
   "cell_type": "code",
   "execution_count": 120,
   "metadata": {},
   "outputs": [],
   "source": [
    "pred_prob1=Lreg.predict_proba(X_test)"
   ]
  },
  {
   "cell_type": "code",
   "execution_count": 121,
   "metadata": {},
   "outputs": [
    {
     "data": {
      "text/plain": [
       "0.9716"
      ]
     },
     "execution_count": 121,
     "metadata": {},
     "output_type": "execute_result"
    }
   ],
   "source": [
    "accuracy_score(y_test,y_test_predict)"
   ]
  },
  {
   "cell_type": "code",
   "execution_count": 122,
   "metadata": {},
   "outputs": [],
   "source": [
    "from sklearn.metrics import roc_curve\n",
    "\n",
    "# roc curve for models\n",
    "fpr1, tpr1, thresh1 = roc_curve(y_test, pred_prob1[:,1], pos_label=1)\n",
    "\n",
    "# roc curve for tpr = fpr \n",
    "random_probs = [0 for i in range(len(y_test))]\n",
    "p_fpr, p_tpr, _ = roc_curve(y_test, random_probs, pos_label=1)"
   ]
  },
  {
   "cell_type": "code",
   "execution_count": 123,
   "metadata": {},
   "outputs": [
    {
     "name": "stdout",
     "output_type": "stream",
     "text": [
      "0.9517269507352152\n"
     ]
    }
   ],
   "source": [
    "from sklearn.metrics import roc_auc_score\n",
    "\n",
    "# auc scores\n",
    "auc_score1 = roc_auc_score(y_test, pred_prob1[:,1])\n",
    "\n",
    "\n",
    "print(auc_score1)"
   ]
  },
  {
   "cell_type": "code",
   "execution_count": 124,
   "metadata": {},
   "outputs": [
    {
     "data": {
      "image/png": "[encoded data removed]",
      "text/plain": [
       "<Figure size 576x396 with 1 Axes>"
      ]
     },
     "metadata": {},
     "output_type": "display_data"
    }
   ],
   "source": [
    "import matplotlib.pyplot as plt\n",
    "plt.style.use('seaborn')\n",
    "\n",
    "# plot roc curves\n",
    "plt.plot(fpr1, tpr1, linestyle='--',color='orange', label='Logistic Regression')\n",
    "plt.plot(p_fpr, p_tpr, linestyle='--', color='blue')\n",
    "# title\n",
    "plt.title('ROC curve')\n",
    "# x label\n",
    "plt.xlabel('False Positive Rate')\n",
    "# y label\n",
    "plt.ylabel('True Positive rate')\n",
    "\n",
    "plt.legend(loc='best')\n",
    "plt.savefig('ROC',dpi=300)\n",
    "plt.show();"
   ]
  },
  {
   "cell_type": "markdown",
   "metadata": {},
   "source": [
    "**Bagging Classifier**"
   ]
  },
  {
   "cell_type": "code",
   "execution_count": 125,
   "metadata": {},
   "outputs": [],
   "source": [
    "Bagging=BaggingClassifier(n_estimators=10)\n",
    "Bagging=Bagging.fit(X_train_SMOTE,y_train_SMOTE)"
   ]
  },
  {
   "cell_type": "code",
   "execution_count": 126,
   "metadata": {},
   "outputs": [],
   "source": [
    "y_train_predict=Bagging.predict(X_train_SMOTE)\n",
    "y_test_predict=Bagging.predict(X_test)"
   ]
  },
  {
   "cell_type": "code",
   "execution_count": 127,
   "metadata": {},
   "outputs": [],
   "source": [
    "pred_prob2=Bagging.predict_proba(X_test)"
   ]
  },
  {
   "cell_type": "code",
   "execution_count": 129,
   "metadata": {},
   "outputs": [
    {
     "data": {
      "text/plain": [
       "0.9996"
      ]
     },
     "execution_count": 129,
     "metadata": {},
     "output_type": "execute_result"
    }
   ],
   "source": [
    "accuracy_score(y_test,y_test_predict)"
   ]
  },
  {
   "cell_type": "code",
   "execution_count": 130,
   "metadata": {},
   "outputs": [],
   "source": [
    "cm=confusion_matrix(y_test,y_test_predict)"
   ]
  },
  {
   "cell_type": "code",
   "execution_count": 131,
   "metadata": {},
   "outputs": [
    {
     "name": "stdout",
     "output_type": "stream",
     "text": [
      "[[19959     6]\n",
      " [    2    33]]\n"
     ]
    }
   ],
   "source": [
    "print(cm)"
   ]
  },
  {
   "cell_type": "code",
   "execution_count": 132,
   "metadata": {},
   "outputs": [
    {
     "data": {
      "image/png": "[encoded data removed]",
      "text/plain": [
       "<Figure size 576x396 with 2 Axes>"
      ]
     },
     "metadata": {},
     "output_type": "display_data"
    }
   ],
   "source": [
    "pd.set_option('display.float_format',lambda x: '%.5f' % x)\n",
    "sns.heatmap(cm,annot=True)\n",
    "plt.show()"
   ]
  },
  {
   "cell_type": "code",
   "execution_count": 133,
   "metadata": {},
   "outputs": [
    {
     "name": "stdout",
     "output_type": "stream",
     "text": [
      "              precision    recall  f1-score   support\n",
      "\n",
      "           0       1.00      1.00      1.00     19965\n",
      "           1       0.85      0.94      0.89        35\n",
      "\n",
      "    accuracy                           1.00     20000\n",
      "   macro avg       0.92      0.97      0.95     20000\n",
      "weighted avg       1.00      1.00      1.00     20000\n",
      "\n"
     ]
    }
   ],
   "source": [
    "c=classification_report(y_test, y_test_predict)\n",
    "print(c)"
   ]
  },
  {
   "cell_type": "code",
   "execution_count": 134,
   "metadata": {},
   "outputs": [],
   "source": [
    "fpr_,tpr_,thres = roc_curve(y_test,pred_prob2[:,1],pos_label=None)\n",
    "random=[0 for i in range(len(y_test))]\n",
    "p_fpr,p_tpr,_=roc_curve(y_test,random,pos_label=1)"
   ]
  },
  {
   "cell_type": "code",
   "execution_count": 135,
   "metadata": {},
   "outputs": [
    {
     "data": {
      "text/plain": [
       "0.9998218310615006"
      ]
     },
     "execution_count": 135,
     "metadata": {},
     "output_type": "execute_result"
    }
   ],
   "source": [
    "roc_auc_score(y_test,pred_prob2[:,1])"
   ]
  },
  {
   "cell_type": "code",
   "execution_count": 136,
   "metadata": {},
   "outputs": [
    {
     "data": {
      "image/png": "[encoded data removed]",
      "text/plain": [
       "<Figure size 576x396 with 1 Axes>"
      ]
     },
     "metadata": {},
     "output_type": "display_data"
    }
   ],
   "source": [
    "plt.plot(fpr_, tpr_, linestyle='--',color='orange', label='Logistic Regression')\n",
    "plt.plot(p_fpr, p_tpr, linestyle='--', color='blue')\n",
    "# title\n",
    "plt.title('ROC curve')\n",
    "# x label\n",
    "plt.xlabel('False Positive Rate')\n",
    "# y label\n",
    "plt.ylabel('True Positive rate')\n",
    "\n",
    "plt.legend(loc='best')\n",
    "plt.savefig('ROC Ba',dpi=300)\n",
    "plt.show();"
   ]
  },
  {
   "cell_type": "code",
   "execution_count": 148,
   "metadata": {},
   "outputs": [
    {
     "name": "stdout",
     "output_type": "stream",
     "text": [
      "                    0\n",
      "accuracy      0.99960\n",
      "recall        0.94286\n",
      "precision     0.84615\n",
      "roc_auc_score 0.97128\n"
     ]
    }
   ],
   "source": [
    "THRESHOLD = [0.5]\n",
    "j = np.where(Bagging.predict_proba(X_test)[:,1] > THRESHOLD, 1, 0)\n",
    "i=pd.DataFrame(data=[accuracy_score(y_test, j), recall_score(y_test, j),\n",
    "                   precision_score(y_test, j), roc_auc_score(y_test, j)], \n",
    "             index=[\"accuracy\", \"recall\", \"precision\", \"roc_auc_score\"])\n",
    "print(i)"
   ]
  },
  {
   "cell_type": "code",
   "execution_count": null,
   "metadata": {},
   "outputs": [],
   "source": []
  }
 ],
 "metadata": {
  "kernelspec": {
   "display_name": "Python 3",
   "language": "python",
   "name": "python3"
  },
  "language_info": {
   "codemirror_mode": {
    "name": "ipython",
    "version": 3
   },
   "file_extension": ".py",
   "mimetype": "text/x-python",
   "name": "python",
   "nbconvert_exporter": "python",
   "pygments_lexer": "ipython3",
   "version": "3.8.5"
  }
 },
 "nbformat": 4,
 "nbformat_minor": 4
}
